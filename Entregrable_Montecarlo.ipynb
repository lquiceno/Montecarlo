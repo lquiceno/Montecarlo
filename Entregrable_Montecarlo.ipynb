{
  "nbformat": 4,
  "nbformat_minor": 0,
  "metadata": {
    "colab": {
      "name": "Entregrable_Montecarlo.ipynb",
      "provenance": [],
      "collapsed_sections": []
    },
    "kernelspec": {
      "name": "python3",
      "display_name": "Python 3"
    }
  },
  "cells": [
    {
      "cell_type": "markdown",
      "metadata": {
        "id": "l2Kx9iqQ4ToX",
        "colab_type": "text"
      },
      "source": [
        "# With this notebook we will:\n",
        "## 1. Install packages needed for root\n",
        "## 2. Download a binary root that compiled in google drive \"colaboratory\" environement\n",
        "## 3. Modify the PATH in order to tell python where to look for pyROOT\n",
        "## 4. Finally, test ROOT installation with a simple example\n",
        "\n",
        "##### Author: Jose Ruiz\n",
        "##### Maintainer: Jose Ruiz\n",
        "##### Developed at: Universidad de Antioquia\n"
      ]
    },
    {
      "cell_type": "markdown",
      "metadata": {
        "id": "C1gPEaTg6fLl",
        "colab_type": "text"
      },
      "source": [
        "### 1. Install packages needed for root"
      ]
    },
    {
      "cell_type": "code",
      "metadata": {
        "id": "gYEA4UKNplb6",
        "colab_type": "code",
        "colab": {
          "base_uri": "https://localhost:8080/",
          "height": 1000
        },
        "outputId": "1c64a7fa-b22e-443e-a7c0-c15fe8c96acd"
      },
      "source": [
        "!apt-get install git dpkg-dev cmake g++ gcc binutils libx11-dev libxpm-dev libxft-dev libxext-dev tar gfortran subversion"
      ],
      "execution_count": 1,
      "outputs": [
        {
          "output_type": "stream",
          "text": [
            "Reading package lists... Done\n",
            "Building dependency tree       \n",
            "Reading state information... Done\n",
            "libxext-dev is already the newest version (2:1.3.3-1).\n",
            "libxext-dev set to manually installed.\n",
            "libxft-dev is already the newest version (2.3.2-1).\n",
            "cmake is already the newest version (3.10.2-1ubuntu2.18.04.1).\n",
            "dpkg-dev is already the newest version (1.19.0.5ubuntu2.3).\n",
            "dpkg-dev set to manually installed.\n",
            "g++ is already the newest version (4:7.4.0-1ubuntu2.3).\n",
            "g++ set to manually installed.\n",
            "gcc is already the newest version (4:7.4.0-1ubuntu2.3).\n",
            "gcc set to manually installed.\n",
            "gfortran is already the newest version (4:7.4.0-1ubuntu2.3).\n",
            "git is already the newest version (1:2.17.1-1ubuntu0.7).\n",
            "libx11-dev is already the newest version (2:1.6.4-3ubuntu0.2).\n",
            "libx11-dev set to manually installed.\n",
            "tar is already the newest version (1.29b-2ubuntu0.1).\n",
            "The following package was automatically installed and is no longer required:\n",
            "  libnvidia-common-440\n",
            "Use 'apt autoremove' to remove it.\n",
            "The following additional packages will be installed:\n",
            "  binutils-common binutils-x86-64-linux-gnu libapr1 libaprutil1 libbinutils\n",
            "  libserf-1-1 libsvn1\n",
            "Suggested packages:\n",
            "  binutils-doc db5.3-util libapache2-mod-svn subversion-tools\n",
            "The following NEW packages will be installed:\n",
            "  libapr1 libaprutil1 libserf-1-1 libsvn1 libxpm-dev subversion\n",
            "The following packages will be upgraded:\n",
            "  binutils binutils-common binutils-x86-64-linux-gnu libbinutils\n",
            "4 upgraded, 6 newly installed, 0 to remove and 31 not upgraded.\n",
            "Need to get 4,851 kB of archives.\n",
            "After this operation, 10.1 MB of additional disk space will be used.\n",
            "Get:1 http://archive.ubuntu.com/ubuntu bionic-updates/main amd64 binutils-x86-64-linux-gnu amd64 2.30-21ubuntu1~18.04.3 [1,839 kB]\n",
            "Get:2 http://archive.ubuntu.com/ubuntu bionic-updates/main amd64 binutils-common amd64 2.30-21ubuntu1~18.04.3 [196 kB]\n",
            "Get:3 http://archive.ubuntu.com/ubuntu bionic-updates/main amd64 binutils amd64 2.30-21ubuntu1~18.04.3 [3,388 B]\n",
            "Get:4 http://archive.ubuntu.com/ubuntu bionic-updates/main amd64 libbinutils amd64 2.30-21ubuntu1~18.04.3 [488 kB]\n",
            "Get:5 http://archive.ubuntu.com/ubuntu bionic/main amd64 libapr1 amd64 1.6.3-2 [90.9 kB]\n",
            "Get:6 http://archive.ubuntu.com/ubuntu bionic/main amd64 libaprutil1 amd64 1.6.1-2 [84.4 kB]\n",
            "Get:7 http://archive.ubuntu.com/ubuntu bionic/universe amd64 libserf-1-1 amd64 1.3.9-6 [44.4 kB]\n",
            "Get:8 http://archive.ubuntu.com/ubuntu bionic/universe amd64 libsvn1 amd64 1.9.7-4ubuntu1 [1,183 kB]\n",
            "Get:9 http://archive.ubuntu.com/ubuntu bionic/main amd64 libxpm-dev amd64 1:3.5.12-1 [87.4 kB]\n",
            "Get:10 http://archive.ubuntu.com/ubuntu bionic/universe amd64 subversion amd64 1.9.7-4ubuntu1 [834 kB]\n",
            "Fetched 4,851 kB in 6s (765 kB/s)\n",
            "(Reading database ... 144465 files and directories currently installed.)\n",
            "Preparing to unpack .../0-binutils-x86-64-linux-gnu_2.30-21ubuntu1~18.04.3_amd64.deb ...\n",
            "Unpacking binutils-x86-64-linux-gnu (2.30-21ubuntu1~18.04.3) over (2.30-21ubuntu1~18.04.2) ...\n",
            "Preparing to unpack .../1-binutils-common_2.30-21ubuntu1~18.04.3_amd64.deb ...\n",
            "Unpacking binutils-common:amd64 (2.30-21ubuntu1~18.04.3) over (2.30-21ubuntu1~18.04.2) ...\n",
            "Preparing to unpack .../2-binutils_2.30-21ubuntu1~18.04.3_amd64.deb ...\n",
            "Unpacking binutils (2.30-21ubuntu1~18.04.3) over (2.30-21ubuntu1~18.04.2) ...\n",
            "Preparing to unpack .../3-libbinutils_2.30-21ubuntu1~18.04.3_amd64.deb ...\n",
            "Unpacking libbinutils:amd64 (2.30-21ubuntu1~18.04.3) over (2.30-21ubuntu1~18.04.2) ...\n",
            "Selecting previously unselected package libapr1:amd64.\n",
            "Preparing to unpack .../4-libapr1_1.6.3-2_amd64.deb ...\n",
            "Unpacking libapr1:amd64 (1.6.3-2) ...\n",
            "Selecting previously unselected package libaprutil1:amd64.\n",
            "Preparing to unpack .../5-libaprutil1_1.6.1-2_amd64.deb ...\n",
            "Unpacking libaprutil1:amd64 (1.6.1-2) ...\n",
            "Selecting previously unselected package libserf-1-1:amd64.\n",
            "Preparing to unpack .../6-libserf-1-1_1.3.9-6_amd64.deb ...\n",
            "Unpacking libserf-1-1:amd64 (1.3.9-6) ...\n",
            "Selecting previously unselected package libsvn1:amd64.\n",
            "Preparing to unpack .../7-libsvn1_1.9.7-4ubuntu1_amd64.deb ...\n",
            "Unpacking libsvn1:amd64 (1.9.7-4ubuntu1) ...\n",
            "Selecting previously unselected package libxpm-dev:amd64.\n",
            "Preparing to unpack .../8-libxpm-dev_1%3a3.5.12-1_amd64.deb ...\n",
            "Unpacking libxpm-dev:amd64 (1:3.5.12-1) ...\n",
            "Selecting previously unselected package subversion.\n",
            "Preparing to unpack .../9-subversion_1.9.7-4ubuntu1_amd64.deb ...\n",
            "Unpacking subversion (1.9.7-4ubuntu1) ...\n",
            "Setting up libapr1:amd64 (1.6.3-2) ...\n",
            "Setting up libxpm-dev:amd64 (1:3.5.12-1) ...\n",
            "Setting up binutils-common:amd64 (2.30-21ubuntu1~18.04.3) ...\n",
            "Setting up libaprutil1:amd64 (1.6.1-2) ...\n",
            "Setting up libbinutils:amd64 (2.30-21ubuntu1~18.04.3) ...\n",
            "Setting up libserf-1-1:amd64 (1.3.9-6) ...\n",
            "Setting up libsvn1:amd64 (1.9.7-4ubuntu1) ...\n",
            "Setting up binutils-x86-64-linux-gnu (2.30-21ubuntu1~18.04.3) ...\n",
            "Setting up subversion (1.9.7-4ubuntu1) ...\n",
            "Setting up binutils (2.30-21ubuntu1~18.04.3) ...\n",
            "Processing triggers for man-db (2.8.3-2ubuntu0.1) ...\n",
            "Processing triggers for libc-bin (2.27-3ubuntu1) ...\n",
            "/sbin/ldconfig.real: /usr/local/lib/python3.6/dist-packages/ideep4py/lib/libmkldnn.so.0 is not a symbolic link\n",
            "\n"
          ],
          "name": "stdout"
        }
      ]
    },
    {
      "cell_type": "markdown",
      "metadata": {
        "id": "3i5bTy4x601V",
        "colab_type": "text"
      },
      "source": [
        "### 2. Mount the drive to get the root binary and untar it "
      ]
    },
    {
      "cell_type": "code",
      "metadata": {
        "id": "gMhjqJ9noRcX",
        "colab_type": "code",
        "colab": {
          "base_uri": "https://localhost:8080/",
          "height": 122
        },
        "outputId": "30d4a69c-2a35-405a-a91e-4818bcd8cbc8"
      },
      "source": [
        "# Load the Drive helper and mount\n",
        "from google.colab import drive\n",
        "\n",
        "# This will prompt for authorization.\n",
        "drive.mount('/content/drive')"
      ],
      "execution_count": 2,
      "outputs": [
        {
          "output_type": "stream",
          "text": [
            "Go to this URL in a browser: https://accounts.google.com/o/oauth2/auth?client_id=947318989803-6bn6qk8qdgf4n4g3pfee6491hc0brc4i.apps.googleusercontent.com&redirect_uri=urn%3aietf%3awg%3aoauth%3a2.0%3aoob&response_type=code&scope=email%20https%3a%2f%2fwww.googleapis.com%2fauth%2fdocs.test%20https%3a%2f%2fwww.googleapis.com%2fauth%2fdrive%20https%3a%2f%2fwww.googleapis.com%2fauth%2fdrive.photos.readonly%20https%3a%2f%2fwww.googleapis.com%2fauth%2fpeopleapi.readonly\n",
            "\n",
            "Enter your authorization code:\n",
            "··········\n",
            "Mounted at /content/drive\n"
          ],
          "name": "stdout"
        }
      ]
    },
    {
      "cell_type": "code",
      "metadata": {
        "id": "dt2PEUjQo0RY",
        "colab_type": "code",
        "colab": {
          "base_uri": "https://localhost:8080/",
          "height": 170
        },
        "outputId": "7cdffcbf-558c-4037-a86f-06642826bed8"
      },
      "source": [
        "# After executing the cell above, Drive\n",
        "# files will be present in \"/content/drive/My Drive\".\n",
        "!ls \"/content/drive/Shared drives/PyROOT_in_Google\""
      ],
      "execution_count": 3,
      "outputs": [
        {
          "output_type": "stream",
          "text": [
            "BasicAnalysis.ipynb\t  FLUTEMI.WAV\n",
            "BasicPyROOTExample.ipynb  HistogrammingInROOT.ipynb\n",
            "Chi2Fitting.ipynb\t  MCSimpleIntegrator.ipynb\n",
            "Data5.root\t\t  monje-a-lo-bonzo-blanco-y-negro.png\n",
            "DatosParcial2\t\t  piano-C5.wav\n",
            "DatosProyectoMontecarlo   root_build_google_yikes.tar\n",
            "DatosResonancia.root\t  TrimmedTree.root\n",
            "FFT_imagen.ipynb\t  TTreeExcercise.ipynb\n",
            "FFT.ipynb\n"
          ],
          "name": "stdout"
        }
      ]
    },
    {
      "cell_type": "code",
      "metadata": {
        "id": "tRQGlQ4Hqau9",
        "colab_type": "code",
        "colab": {}
      },
      "source": [
        "!tar -xf /content/drive/Shared\\ drives/PyROOT_in_Google/root_build_google_yikes.tar"
      ],
      "execution_count": 4,
      "outputs": []
    },
    {
      "cell_type": "code",
      "metadata": {
        "id": "DfLQ4DrprjLU",
        "colab_type": "code",
        "colab": {
          "base_uri": "https://localhost:8080/",
          "height": 1000
        },
        "outputId": "55403b6b-c637-4774-db9e-5b28f99e9bc3"
      },
      "source": [
        "!ls -ltrh root_build/"
      ],
      "execution_count": 5,
      "outputs": [
        {
          "output_type": "stream",
          "text": [
            "total 2.6M\n",
            "-rw-r--r--  1 root root   70 Sep 20  2018 recmake_replay.sh\n",
            "-rw-r--r--  1 root root   70 Sep 20  2018 recmake_initial.sh\n",
            "drwxr-xr-x  4 root root 4.0K Sep 20  2018 PCRE-prefix\n",
            "drwxr-xr-x  4 root root 4.0K Sep 20  2018 LZMA-prefix\n",
            "drwxr-xr-x  5 root root 4.0K Sep 20  2018 builtins\n",
            "drwxr-xr-x  4 root root 4.0K Sep 20  2018 AFTERIMAGE-prefix\n",
            "drwxr-xr-x  4 root root 4.0K Sep 20  2018 VDT-prefix\n",
            "drwxr-xr-x  4 root root 4.0K Sep 20  2018 TBB-prefix\n",
            "-rw-rw-r--  1 root root  718 Sep 20  2018 ROOTUseFile.cmake\n",
            "-rw-rw-r--  1 root root  597 Sep 20  2018 ROOTConfig-version.cmake\n",
            "-rw-rw-r--  1 root root 6.3K Sep 20  2018 ROOTConfig.cmake\n",
            "drwxr-xr-x  2 root root 4.0K Sep 20  2018 config\n",
            "-rw-rw-r--  1 root root  55K Sep 20  2018 root-help.el\n",
            "-rw-rw-r--  1 root root 2.1K Sep 20  2018 README.txt\n",
            "-rw-rw-r--  1 root root  847 Sep 20  2018 LICENSE.txt\n",
            "-rw-rw-r--  1 root root  24K Sep 20  2018 LGPL2_1.txt\n",
            "drwxr-xr-x  2 root root 4.0K Sep 20  2018 installtree\n",
            "-rw-rw-r--  1 root root 1.6K Sep 20  2018 CTestCustom.cmake\n",
            "-rw-r--r--  1 root root 5.2K Sep 20  2018 CPackSourceConfig.cmake\n",
            "-rw-r--r--  1 root root  12K Sep 20  2018 CPackConfig.cmake\n",
            "-rw-rw-r--  1 root root 1.7K Sep 20  2018 CMakeCPackOptions.cmake\n",
            "-rw-r--r--  1 root root 126K Sep 20  2018 CMakeCache.txt\n",
            "-rw-r--r--  1 root root 302K Sep 20  2018 Makefile\n",
            "drwxr-xr-x  4 root root 4.0K Sep 20  2018 interpreter\n",
            "-rw-r--r--  1 root root  12K Sep 20  2018 cmake_install.cmake\n",
            "drwxr-xr-x  7 root root 4.0K Sep 20  2018 tree\n",
            "drwxr-xr-x 16 root root 4.0K Sep 20  2018 math\n",
            "drwxr-xr-x  8 root root 4.0K Sep 20  2018 io\n",
            "drwxr-xr-x  9 root root 4.0K Sep 20  2018 hist\n",
            "drwxr-xr-x  3 root root 4.0K Sep 20  2018 build\n",
            "drwxr-xr-x  6 root root 4.0K Sep 20  2018 tmva\n",
            "drwxr-xr-x  3 root root 4.0K Sep 20  2018 sql\n",
            "drwxr-xr-x  3 root root 4.0K Sep 20  2018 rootx\n",
            "-rw-r--r--  1 root root  57K Sep 20  2018 ROOTConfig-targets.cmake\n",
            "drwxr-xr-x  7 root root 4.0K Sep 20  2018 roofit\n",
            "drwxr-xr-x  7 root root 4.0K Sep 20  2018 proof\n",
            "drwxr-xr-x  9 root root 4.0K Sep 20  2018 net\n",
            "drwxr-xr-x  5 root root 4.0K Sep 20  2018 montecarlo\n",
            "drwxr-xr-x  3 root root 4.0K Sep 20  2018 misc\n",
            "drwxr-xr-x  3 root root 4.0K Sep 20  2018 main\n",
            "drwxr-xr-x 10 root root 4.0K Sep 20  2018 gui\n",
            "drwxr-xr-x  5 root root 4.0K Sep 20  2018 graf3d\n",
            "drwxr-xr-x 10 root root 4.0K Sep 20  2018 graf2d\n",
            "drwxr-xr-x  7 root root 4.0K Sep 20  2018 geom\n",
            "-rw-r--r--  1 root root 1.8M Sep 20  2018 compile_commands.json\n",
            "drwxr-xr-x  4 root root 4.0K Sep 20  2018 bindings\n",
            "drwxr-xr-x  5 root root 4.0K Sep 20  2018 share\n",
            "drwxr-xr-x  3 root root 4.0K Sep 20  2018 README\n",
            "-rw-rw-r--  1 root root  847 Sep 20  2018 LICENSE\n",
            "drwxr-xr-x 11 root root 4.0K Sep 20  2018 test\n",
            "drwxr-xr-x  2 root root  20K Sep 20  2018 icons\n",
            "drwxr-xr-x  2 root root 4.0K Sep 20  2018 macros\n",
            "drwxr-xr-x  2 root root 4.0K Sep 20  2018 fonts\n",
            "-rw-r--r--  1 root root  134 Sep 20  2018 RGitCommit.h.tmp\n",
            "drwxr-xr-x 14 root root  44K Sep 20  2018 include\n",
            "drwxr-xr-x 22 root root 4.0K Sep 20  2018 core\n",
            "drwxr-xr-x  3 root root 4.0K Sep 20  2018 html\n",
            "drwxr-xr-x 12 root root 4.0K Sep 20  2018 etc\n",
            "drwxr-xr-x 49 root root 4.0K Sep 20  2018 tutorials\n",
            "drwxr-xr-x  6 root root  12K Sep 20  2018 lib\n",
            "drwxr-xr-x 19 root root 4.0K Sep 20  2018 CMakeFiles\n",
            "drwxr-xr-x  2 root root 4.0K Sep 20  2018 bin\n"
          ],
          "name": "stdout"
        }
      ]
    },
    {
      "cell_type": "markdown",
      "metadata": {
        "id": "1nHFk9y68VVP",
        "colab_type": "text"
      },
      "source": [
        "\n",
        "### 3. Modify the PATH in order to tell python where to look for pyROOT\n"
      ]
    },
    {
      "cell_type": "code",
      "metadata": {
        "id": "N3ndoY6iu6_J",
        "colab_type": "code",
        "colab": {}
      },
      "source": [
        "import sys\n",
        "sys.path.append(\"/content/root_build/\")\n",
        "sys.path.append(\"/content/root_build/bin/\")\n",
        "sys.path.append(\"/content/root_build/include/\")\n",
        "sys.path.append(\"/content/root_build/lib/\")"
      ],
      "execution_count": 6,
      "outputs": []
    },
    {
      "cell_type": "code",
      "metadata": {
        "id": "S5oryMVlK_TF",
        "colab_type": "code",
        "colab": {
          "base_uri": "https://localhost:8080/",
          "height": 34
        },
        "outputId": "4d677e02-0f66-4432-fd8c-c0ae0f986a6f"
      },
      "source": [
        "#importo paqueterias\n",
        "import ROOT \n",
        "import numpy as np\n",
        "from random import random \n",
        "from scipy import integrate\n",
        "import matplotlib.pyplot as plt"
      ],
      "execution_count": 7,
      "outputs": [
        {
          "output_type": "stream",
          "text": [
            "Welcome to JupyROOT 6.14/04\n"
          ],
          "name": "stdout"
        }
      ]
    },
    {
      "cell_type": "markdown",
      "metadata": {
        "id": "T33_3Ad08kEA",
        "colab_type": "text"
      },
      "source": [
        "# We made it!!! :)"
      ]
    },
    {
      "cell_type": "code",
      "metadata": {
        "id": "5W-HPKhZk_Nv",
        "colab_type": "code",
        "colab": {
          "base_uri": "https://localhost:8080/",
          "height": 34
        },
        "outputId": "5751743d-f87a-46fe-d9d3-7fbd93b32a98"
      },
      "source": [
        "DataChain_C=ROOT.TChain(\"SystemTree\") #leer los datos que se encuentra en el drive \n",
        "DataChain_L=ROOT.TChain(\"SystemTree\") #leer los datos que se encuentra en el drive \n",
        "DataChain_C.Add(\"/content/drive/My Drive/CarlosAndresBetancur.root\") #datos Carlos Betancur.ROOT\n",
        "DataChain_L.Add(\"/content/drive/My Drive/LucasHernanQuiceno.root\") #datos Lucas Quiceno.ROOT\n"
      ],
      "execution_count": 8,
      "outputs": [
        {
          "output_type": "execute_result",
          "data": {
            "text/plain": [
              "1"
            ]
          },
          "metadata": {
            "tags": []
          },
          "execution_count": 8
        }
      ]
    },
    {
      "cell_type": "code",
      "metadata": {
        "id": "iUEHg7a3KoS7",
        "colab_type": "code",
        "colab": {
          "base_uri": "https://localhost:8080/",
          "height": 51
        },
        "outputId": "fc9999b7-e36b-4620-cd81-9847500da63e"
      },
      "source": [
        "NumberOfEventsToCheck_C=DataChain_C.GetEntries() #verificar cuantos datsose va a analizar\n",
        "NumberOfEventsToCheck_L=DataChain_L.GetEntries() #verificar cuantos datsose va a analzar\n",
        "print(\"Analizaremos \",NumberOfEventsToCheck_C, \" eventos en los datos de Carlos\")\n",
        "print(\"Analizaremos \",NumberOfEventsToCheck_L, \" eventos en los datos de Lucas\")"
      ],
      "execution_count": 9,
      "outputs": [
        {
          "output_type": "stream",
          "text": [
            "Analizaremos  80000  eventos en los datos de Carlos\n",
            "Analizaremos  85000  eventos en los datos de Lucas\n"
          ],
          "name": "stdout"
        }
      ]
    },
    {
      "cell_type": "markdown",
      "metadata": {
        "id": "8ItdfARfP82i",
        "colab_type": "text"
      },
      "source": [
        "Primero se realiza un histograma de la variable x que corresponde a los eventos generados"
      ]
    },
    {
      "cell_type": "code",
      "metadata": {
        "id": "vq781BMHvn8k",
        "colab_type": "code",
        "colab": {
          "base_uri": "https://localhost:8080/",
          "height": 1000
        },
        "outputId": "b6e47025-5e02-4ae2-8d2c-c5f32dea76c1"
      },
      "source": [
        "Histograma_C = ROOT.TH1F( 'Hist', 'Datos Carlos', 1000, 0 , 1500 ) #crear histograma\n",
        "Histograma_L = ROOT.TH1F( 'Hist', 'Datos Lucas', 1000, 0 , 1500 ) #crear histograma\n",
        "\n",
        "for entry in DataChain_C:\n",
        "  var_C=entry.x\n",
        "  Histograma_C.Fill(var_C)\n",
        "\n",
        "for entry in DataChain_L:\n",
        "  var_L=entry.x\n",
        "  Histograma_L.Fill(var_L)\n",
        "\n",
        "c1 = ROOT.TCanvas( 'c1', 'The FillRandom example', 200, 10, 700, 900 )\n",
        "c1.SetFillColor( 0 )\n",
        "Histograma_C.Draw()\n",
        "c1.Update()\n",
        "ROOT.gROOT.GetListOfCanvases().Draw()\n",
        "print(Histograma_C)\n",
        "\n",
        "c2 = ROOT.TCanvas( 'c2', 'The FillRandom example', 200, 10, 700, 900 )\n",
        "c2.SetFillColor( 0 )\n",
        "Histograma_L.Draw()\n",
        "c2.Update()\n",
        "ROOT.gROOT.GetListOfCanvases().Draw()\n",
        "print(Histograma_L)\n"
      ],
      "execution_count": 10,
      "outputs": [
        {
          "output_type": "stream",
          "text": [
            "<ROOT.TH1F object (\"Hist\") at 0x78c7c00>\n",
            "<ROOT.TH1F object (\"Hist\") at 0x78bb000>\n"
          ],
          "name": "stdout"
        },
        {
          "output_type": "stream",
          "text": [
            "Warning in <TROOT::Append>: Replacing existing TH1: Hist (Potential memory leak).\n"
          ],
          "name": "stderr"
        },
        {
          "output_type": "display_data",
          "data": {
            "image/png": "[encoded data removed]",
            "text/plain": [
              "<IPython.core.display.Image object>"
            ]
          },
          "metadata": {
            "tags": []
          }
        },
        {
          "output_type": "display_data",
          "data": {
            "image/png": "[encoded data removed]",
            "text/plain": [
              "<IPython.core.display.Image object>"
            ]
          },
          "metadata": {
            "tags": []
          }
        }
      ]
    },
    {
      "cell_type": "code",
      "metadata": {
        "id": "zwvxTI_yLGOd",
        "colab_type": "code",
        "colab": {}
      },
      "source": [
        "#Algoritmo de Metrópolis para el cual usamos ROOT.Math.Landau \n",
        "N_C=80000 #LONGITUD DATOS DE CARLOS\n",
        "N_L=85000 #LONGITUD DATOS DE LUCAS\n",
        "Cphi_l1=[] ; Cphi_l2=[] # LISTA PARA GUARDAR LOS ESTADOS DE CARLOS\n",
        "Lphi_l1=[] ; Lphi_l2=[] # LISTA PARA GUARDAR LOS ESTADOS DE LUCAS\n",
        "Ca=80 ; Cb=1500  # VALORES ENTRE LOS QUE ESTA EL HISTOGRAMA DE CARLOS\n",
        "La=100 ; Lb=1500  # VALORES ENTRE LOS QUE ESTA EL HISTOGRAMA DE LUCAS\n",
        "\n",
        "Cphi_01=(Cb-Ca)*random()+Ca ; Cphi_02=(Cb-Ca)*random()+Ca # GENERO EL ESTADO INICIAL PARA CARLOS\n",
        "Lphi_01=(Lb-La)*random()+La ; Lphi_02=(Lb-La)*random()+La # GENERO EL ESTADO INICIAL PARA LUCAS\n",
        "Cphi_l1.append(Cphi_01) ; Cphi_l2.append(Cphi_02) # AGREGO EL ESTADO INICIAL PARA CARLOS\n",
        "Lphi_l1.append(Lphi_01) ; Lphi_l2.append(Lphi_02) # AGREGO EL ESTADO INICIAL PARA LUCAS\n",
        "CMu=165.2 ;Ccu=116.7 # MEDIA Y VARIANZA DE LOS DATOS DE CARLOS \n",
        "LMu=230.6 ;Lcu=137.3 # MEDIA Y VARIANZA DE LOS DATOS DE LUCAS"
      ],
      "execution_count": 11,
      "outputs": []
    },
    {
      "cell_type": "code",
      "metadata": {
        "id": "qmKR6xLioJOa",
        "colab_type": "code",
        "colab": {}
      },
      "source": [
        "# GENERAMOS LOS ESTADOS ALEATORIOS PRIMADOS (ALGORITMO DE METROPOLIS) PARA LOS DATOS DE CARLOS\n",
        "while ((len(Cphi_l1)+len(Cphi_l2))<N_C):\n",
        "\n",
        "    Cphi_p1=(Cb-Ca)*random()+Ca # ESTADO PRIMADO -> PASO 2 METROPOLIS\n",
        "    Cdelta_S1=-np.log(ROOT.TMath.Landau(Cphi_p1,CMu,Ccu,True)/ROOT.TMath.Landau(Cphi_l1[-1],CMu,Ccu,True)) # CALCULA EL DELTA -> PASO 3 DE METROPOLIS\n",
        "\n",
        "    Cphi_p2=(Cb-Ca)*random()+Ca # ESTADO PRIMADO -> PASO 2 METROPOLIS\n",
        "    Cdelta_S2=-np.log(ROOT.TMath.Landau(Cphi_p2,CMu,Ccu,True)/ROOT.TMath.Landau(Cphi_l2[-1],CMu,Ccu,True)) # CALCULA EL DELTA -> PASO 3 DE METROPOLIS\n",
        "\n",
        "    if Cdelta_S1<0 and Cdelta_S2<0: # CONDICIONAL CASO 1\n",
        "      Cphi_i1=Cphi_p1 # SI SE CUMPLE ENTONCES PHI1=PHI_PRIMADO PASO 4 DE METROPOLIS\n",
        "      Cphi_l1.append(Cphi_i1) # LO AGREGAMOS\n",
        "      if ((len(Cphi_l1)+len(Cphi_l2))>=N_C): # NO SE DEBEN SUPERAR LOS 80MIL\n",
        "          break # SI LO HACE ROMPA EL BUCLE\n",
        "      Cphi_i2=Cphi_p2 # SI NO HEMOS CONSEGUIDO LOS 80MIL ENTONCES PHI1=PHI_PRIMADO\n",
        "      Cphi_l2.append(Cphi_i2) # LO AGREGAMOS\n",
        "\n",
        "    if Cdelta_S1<0 and Cdelta_S2>0: # CONDICIONAL CASO 2\n",
        "      Cphi_i1=Cphi_p1 \n",
        "      Cphi_l1.append(Cphi_i1) \n",
        "      if ((len(Cphi_l1)+len(Cphi_l2))>=N_C): \n",
        "          break \n",
        "      Cr=random() # COMO DELTA2 > 0 ENTONCES GENERE UN NUMERO ALEATORIO PASO 5 DE METROPOLIS\n",
        "      CFRAC=ROOT.TMath.Landau(Cphi_p2,CMu,Ccu,True)/ROOT.TMath.Landau(Cphi_l2[-1],CMu,Ccu,True) # CALCULAMOS ESTE COCIENTE\n",
        "      if Cr<CFRAC:     # SI EL NUMERO ALEATORIO QUE GENERAMOS ES MENOR QUE EL COCIENTE ENTONCES\n",
        "        Cphi_i2=Cphi_p2 # AGREGUE EL ESTADO\n",
        "        Cphi_l2.append(Cphi_i2) # YA\n",
        "\n",
        "# IGUAL DE AQUI PARA ABAJO\n",
        "\n",
        "    if Cdelta_S1>0 and Cdelta_S2<0: # CONDICIONAL CASO 3\n",
        "      Cphi_i2=Cphi_p2\n",
        "      Cphi_l2.append(Cphi_i2)\n",
        "      if ((len(Cphi_l1)+len(Cphi_l2))>=N_C):\n",
        "          break\n",
        "      Cr=random()\n",
        "      CFRAC=ROOT.TMath.Landau(Cphi_p1,CMu,Ccu,True)/ROOT.TMath.Landau(Cphi_l1[-1],CMu,Ccu,True)\n",
        "      if Cr<CFRAC:\n",
        "        Cphi_i1=Cphi_p1\n",
        "        Cphi_l1.append(Cphi_i1)\n",
        "        \n",
        "    if Cdelta_S1>0 and Cdelta_S2>0: # CONDICIONAL CASO 4\n",
        "      Cr=random() ; Cro=random()\n",
        "      CFRAC=ROOT.TMath.Landau(Cphi_p1,CMu,Ccu,True)/ROOT.TMath.Landau(Cphi_l1[-1],CMu,Ccu,True)\n",
        "      CFRACo=ROOT.TMath.Landau(Cphi_p2,CMu,Ccu,True)/ROOT.TMath.Landau(Cphi_l2[-1],CMu,Ccu,True)\n",
        "\n",
        "      if Cro<CFRACo:\n",
        "        Cphi_i2=Cphi_p2\n",
        "        Cphi_l2.append(Cphi_i2)\n",
        "        if ((len(Cphi_l1)+len(Cphi_l2))>=N_C):\n",
        "          break\n",
        "      if Cr<CFRAC:\n",
        "        Cphi_i1=Cphi_p1\n",
        "        Cphi_l1.append(Cphi_i1)\n",
        "\n",
        "\n",
        "\n",
        "\n",
        "\n",
        "\n",
        "\n",
        "# GENERAMOS LOS ESTADOS ALEATORIOS PRIMADOS (ALGORITMO DE METROPOLIS) PARA LOS DATOS DE LUCAS\n",
        "while ((len(Lphi_l1)+len(Lphi_l2))<N_L):\n",
        "\n",
        "    Lphi_p1=(Lb-La)*random()+La # ESTADO PRIMADO -> PASO 2 METROPOLIS\n",
        "    Ldelta_S1=-np.log(ROOT.TMath.Landau(Lphi_p1,LMu,Lcu,True)/ROOT.TMath.Landau(Lphi_l1[-1],LMu,Lcu,True)) # CALCULA EL DELTA -> PASO 3 DE METROPOLIS\n",
        "\n",
        "    Lphi_p2=(Lb-La)*random()+La # ESTADO PRIMADO -> PASO 2 METROPOLIS\n",
        "    Ldelta_S2=-np.log(ROOT.TMath.Landau(Lphi_p2,LMu,Lcu,True)/ROOT.TMath.Landau(Lphi_l2[-1],LMu,Lcu,True)) # CALCULA EL DELTA -> PASO 3 DE METROPOLIS\n",
        "\n",
        "    if Ldelta_S1<0 and Ldelta_S2<0: # CONDICIONAL CASO 1\n",
        "      Lphi_i1=Lphi_p1 # SI SE CUMPLE ENTONCES PHI1=PHI_PRIMADO PASO 4 DE METROPOLIS\n",
        "      Lphi_l1.append(Lphi_i1) # LO AGREGAMOS\n",
        "      if ((len(Lphi_l1)+len(Lphi_l2))>=N_L): # NO SE DEBEN SUPERAR LOS 85MIL\n",
        "          break # SI LO HACE ROMPA EL BUCLE\n",
        "      Lphi_i2=Lphi_p2 # SI NO HEMOS CONSEGUIDO LOS 85MIL ENTONCES PHI1=PHI_PRIMADO\n",
        "      Lphi_l2.append(Lphi_i2) # LO AGREGAMOS\n",
        "\n",
        "    if Ldelta_S1<0 and Ldelta_S2>0: # CONDICIONAL CASO 2\n",
        "      Lphi_i1=Lphi_p1 \n",
        "      Lphi_l1.append(Lphi_i1) \n",
        "      if ((len(Lphi_l1)+len(Lphi_l2))>=N_L): \n",
        "          break \n",
        "      Lr=random() # COMO DELTA2 > 0 ENTONCES GENERE UN NUMERO ALEATORIO PASO 5 DE METROPOLIS\n",
        "      LFRAC=ROOT.TMath.Landau(Lphi_p2,LMu,Lcu,True)/ROOT.TMath.Landau(Lphi_l2[-1],LMu,Lcu,True) # CALCULAMOS ESTE COCIENTE\n",
        "      if Lr<LFRAC:     # SI EL NUMERO ALEATORIO QUE GENERAMOS ES MENOR QUE EL COCIENTE ENTONCES\n",
        "        Lphi_i2=Lphi_p2 # AGREGUE EL ESTADO\n",
        "        Lphi_l2.append(Lphi_i2) # YA\n",
        "\n",
        "# IGUAL DE AQUI PARA ABAJO\n",
        "\n",
        "    if Ldelta_S1>0 and Ldelta_S2<0: # CONDICIONAL CASO 3\n",
        "      Lphi_i2=Lphi_p2\n",
        "      Lphi_l2.append(Lphi_i2)\n",
        "      if ((len(Lphi_l1)+len(Lphi_l2))>=N_L):\n",
        "          break\n",
        "      Lr=random()\n",
        "      LFRAC=ROOT.TMath.Landau(Lphi_p1,LMu,Lcu,True)/ROOT.TMath.Landau(Lphi_l1[-1],LMu,Lcu,True)\n",
        "      if Lr<LFRAC:\n",
        "        Lphi_i1=Lphi_p1\n",
        "        Lphi_l1.append(Lphi_i1)\n",
        "        \n",
        "    if Ldelta_S1>0 and Ldelta_S2>0: # CONDICIONAL CASO 4\n",
        "      Lr=random() ; Lro=random()\n",
        "      LFRAC=ROOT.TMath.Landau(Lphi_p1,LMu,Lcu,True)/ROOT.TMath.Landau(Lphi_l1[-1],LMu,Lcu,True)\n",
        "      LFRACo=ROOT.TMath.Landau(Lphi_p2,LMu,Lcu,True)/ROOT.TMath.Landau(Lphi_l2[-1],LMu,Lcu,True)\n",
        "\n",
        "      if Lro<LFRACo:\n",
        "        Lphi_i2=Lphi_p2\n",
        "        Lphi_l2.append(Lphi_i2)\n",
        "        if ((len(Lphi_l1)+len(Lphi_l2))>=N_L):\n",
        "          break\n",
        "      if Lr<LFRAC:\n",
        "        Lphi_i1=Lphi_p1\n",
        "        Lphi_l1.append(Lphi_i1)"
      ],
      "execution_count": 12,
      "outputs": []
    },
    {
      "cell_type": "code",
      "metadata": {
        "id": "chidhDMFKPmK",
        "colab_type": "code",
        "colab": {
          "base_uri": "https://localhost:8080/",
          "height": 1000
        },
        "outputId": "cb6a6f04-7b31-4e97-a453-5f141745bdf0"
      },
      "source": [
        "#Histograma generado es:\n",
        "print(len(Cphi_l1)+len(Cphi_l2)) # VERIFICAMOS QUE ESTEN LOS 80MIL ESTADOS DE CARLOS\n",
        "print(len(Lphi_l1)+len(Lphi_l2)) # VERIFICAMOS QUE ESTEN LOS 85MIL ESTADOS DE LUCAS\n",
        "\n",
        "Cphi=Cphi_l1+Cphi_l2 # SUMAMOS LOS ESTADOS DE CARLOS \n",
        "Lphi=Lphi_l1+Lphi_l2 # SUMAMOS LOS ESTADOS DE LUCAS\n",
        "\n",
        "plt.hist(Cphi,bins=500) # GRAFICAMOS EL HISTOGRAMA DE CARLOS\n",
        "plt.show()\n",
        "HistC= ROOT.TH1F( 'HistC', 'Histograma Carlos', 1000, 0 , 1500 )\n",
        "for i in Cphi:\n",
        "  HistC.Fill(i)\n",
        "c1 = ROOT.TCanvas( 'CARLOS', 'The FillRandom example', 200, 10, 700, 900 )\n",
        "c1.SetFillColor( 0 )\n",
        "HistC.Draw()\n",
        "c1.Update()\n",
        "ROOT.gROOT.GetListOfCanvases().Draw()\n",
        "\n",
        "plt.hist(Lphi,bins=500) # GRAFICAMOS EL HISTOGRAMA DE LUCAS\n",
        "plt.show()\n",
        "HistL= ROOT.TH1F( 'HistL', 'Histograma LUCAS', 1000, 0 , 1500 )\n",
        "for i in Lphi:\n",
        "  HistL.Fill(i)\n",
        "c2 = ROOT.TCanvas( 'LUCAS', 'The FillRandom example', 200, 10, 700, 900 )\n",
        "c2.SetFillColor( 0 )\n",
        "HistL.Draw()\n",
        "c2.Update()\n",
        "ROOT.gROOT.GetListOfCanvases().Draw()"
      ],
      "execution_count": 14,
      "outputs": [
        {
          "output_type": "stream",
          "text": [
            "80000\n",
            "85000\n"
          ],
          "name": "stdout"
        },
        {
          "output_type": "display_data",
          "data": {
            "image/png": "[encoded data removed]",
            "text/plain": [
              "<Figure size 432x288 with 1 Axes>"
            ]
          },
          "metadata": {
            "tags": [],
            "needs_background": "light"
          }
        },
        {
          "output_type": "display_data",
          "data": {
            "image/png": "[encoded data removed]",
            "text/plain": [
              "<Figure size 432x288 with 1 Axes>"
            ]
          },
          "metadata": {
            "tags": [],
            "needs_background": "light"
          }
        },
        {
          "output_type": "stream",
          "text": [
            "Warning in <TROOT::Append>: Replacing existing TH1: HistC (Potential memory leak).\n",
            "Warning in <TCanvas::Constructor>: Deleting canvas with same name: CARLOS\n",
            "Warning in <TROOT::Append>: Replacing existing TH1: HistL (Potential memory leak).\n",
            "Warning in <TCanvas::Constructor>: Deleting canvas with same name: LUCAS\n"
          ],
          "name": "stderr"
        },
        {
          "output_type": "display_data",
          "data": {
            "image/png": "[encoded data removed]",
            "text/plain": [
              "<IPython.core.display.Image object>"
            ]
          },
          "metadata": {
            "tags": []
          }
        },
        {
          "output_type": "display_data",
          "data": {
            "image/png": "[encoded data removed]",
            "text/plain": [
              "<IPython.core.display.Image object>"
            ]
          },
          "metadata": {
            "tags": []
          }
        }
      ]
    },
    {
      "cell_type": "code",
      "metadata": {
        "id": "-iq6GAorKYx4",
        "colab_type": "code",
        "colab": {
          "base_uri": "https://localhost:8080/",
          "height": 85
        },
        "outputId": "60aa383c-6dea-46b3-ff77-5540e1dc6f61"
      },
      "source": [
        "#Vamos a buscar los mejores valores de mu y c\n",
        "#Generemos primero diferentes valores de mu y c\n",
        "# N=80000 \n",
        "CALLX=[] ; CALLY=[] #En este veré los valores de MU y C PARA CARLOS\n",
        "LALLX=[] ; LALLY=[] #En este veré los valores de MU y C PARA LUCAS\n",
        "# a=80 ; b=1500\n",
        "\n",
        "CMU=np.linspace(150,180,6) # INTERVALO\n",
        "CC=np.linspace(140,180,6) # INTERVALO\n",
        "print(\"Carlos mu\",CMU)\n",
        "print(\"Carlos c\",CC)\n",
        "LMU=np.linspace(200,230,6) # INTERVALO\n",
        "LC=np.linspace(140,180,6) # INTERVALO\n",
        "print(\"Lucas mu\",LMU)\n",
        "print(\"Lucas c\",LC)"
      ],
      "execution_count": 30,
      "outputs": [
        {
          "output_type": "stream",
          "text": [
            "Carlos mu [150. 156. 162. 168. 174. 180.]\n",
            "Carlos c [140. 148. 156. 164. 172. 180.]\n",
            "Lucas mu [200. 206. 212. 218. 224. 230.]\n",
            "Lucas c [140. 148. 156. 164. 172. 180.]\n"
          ],
          "name": "stdout"
        }
      ]
    },
    {
      "cell_type": "code",
      "metadata": {
        "id": "GiZ0FYCueC4S",
        "colab_type": "code",
        "colab": {}
      },
      "source": [
        "#Aplicamos ahora metrópolis pero variando el mu y c PARA CARLOS\n",
        "\n",
        "for j in CMU:\n",
        "  for k in CC:\n",
        "    Cphi_l1=[]\n",
        "    Cphi_l2=[]\n",
        "    Cphi_01=(Cb-Ca)*random()+Ca\n",
        "    Cphi_02=(Cb-Ca)*random()+Ca\n",
        "    Cphi_l1.append(Cphi_01)\n",
        "    Cphi_l2.append(Cphi_02)\n",
        "    while ((len(Cphi_l1)+len(Cphi_l2))<N_C):\n",
        "      Cphi_p1=(Cb-Ca)*random()+Ca\n",
        "      Cdelta_S1=-np.log(ROOT.TMath.Landau(Cphi_p1,j,k,True)/ROOT.TMath.Landau(Cphi_l1[-1],j,k,True))\n",
        "\n",
        "      Cphi_p2=(Cb-Ca)*random()+Ca\n",
        "      Cdelta_S2=-np.log(ROOT.TMath.Landau(Cphi_p2,j,k,True)/ROOT.TMath.Landau(Cphi_l2[-1],j,k,True))\n",
        "\n",
        "      if Cdelta_S1<0 and Cdelta_S2<0:\n",
        "        Cphi_i1=Cphi_p1\n",
        "        Cphi_l1.append(Cphi_i1)\n",
        "        if ((len(Cphi_l1)+len(Cphi_l2))>=N_C):\n",
        "          break\n",
        "        Cphi_i2=Cphi_p2\n",
        "        Cphi_l2.append(Cphi_i2)\n",
        "      if Cdelta_S1<0 and Cdelta_S2>0:\n",
        "        Cphi_i1=Cphi_p1\n",
        "        Cphi_l1.append(Cphi_i1)\n",
        "        if ((len(Cphi_l1)+len(Cphi_l2))>=N_C):\n",
        "          break\n",
        "        Cr=random()\n",
        "        CFRAC=ROOT.TMath.Landau(Cphi_p2,j,k,True)/ROOT.TMath.Landau(Cphi_l2[-1],j,k,True)\n",
        "        if Cr<CFRAC:\n",
        "          Cphi_i2=Cphi_p2\n",
        "          Cphi_l2.append(Cphi_i2)\n",
        "      if Cdelta_S1>0 and Cdelta_S2<0:\n",
        "        Cphi_i2=Cphi_p2\n",
        "        Cphi_l2.append(Cphi_i2)\n",
        "        if ((len(Cphi_l1)+len(Cphi_l2))>=N_C):\n",
        "          break\n",
        "        Cr=random()\n",
        "        CFRAC=ROOT.TMath.Landau(Cphi_p1,j,k,True)/ROOT.TMath.Landau(Cphi_l1[-1],j,k,True)\n",
        "        if Cr<CFRAC:\n",
        "          Cphi_i1=Cphi_p1\n",
        "          Cphi_l1.append(Cphi_i1)\n",
        "      if Cdelta_S1>0 and Cdelta_S2>0:\n",
        "        Cr=random()\n",
        "        CFRAC=ROOT.TMath.Landau(Cphi_p1,j,k,True)/ROOT.TMath.Landau(Cphi_l1[-1],j,k,True)\n",
        "        Cro=random()\n",
        "        CFRACo=ROOT.TMath.Landau(Cphi_p2,j,k,True)/ROOT.TMath.Landau(Cphi_l2[-1],j,k,True)\n",
        "        if Cro<CFRACo:\n",
        "          Cphi_i2=Cphi_p2\n",
        "          Cphi_l2.append(Cphi_i2)\n",
        "          if ((len(Cphi_l1)+len(Cphi_l2))>=N_C):\n",
        "            break\n",
        "        if Cr<CFRAC:\n",
        "          Cphi_i1=Cphi_p1\n",
        "          Cphi_l1.append(Cphi_i1)\n",
        "    Cphi=Cphi_l1+Cphi_l2\n",
        "\n",
        "    CALLX.append(Cphi)\n",
        "    CALLY.append([j,k])\n",
        "\n",
        "\n",
        "#Aplicamos ahora metrópolis pero variando el mu y c PARA LUCAS\n",
        "\n",
        "for l in LMU:\n",
        "  for m in LC:\n",
        "    Lphi_l1=[]\n",
        "    Lphi_l2=[]\n",
        "    Lphi_01=(Lb-La)*random()+La\n",
        "    Lphi_02=(Lb-La)*random()+La\n",
        "    Lphi_l1.append(Lphi_01)\n",
        "    Lphi_l2.append(Lphi_02)\n",
        "    while ((len(Lphi_l1)+len(Lphi_l2))<N_L):\n",
        "      Lphi_p1=(Lb-La)*random()+La\n",
        "      Ldelta_S1=-np.log(ROOT.TMath.Landau(Lphi_p1,l,m,True)/ROOT.TMath.Landau(Lphi_l1[-1],l,m,True))\n",
        "\n",
        "      Lphi_p2=(Lb-La)*random()+La\n",
        "      Ldelta_S2=-np.log(ROOT.TMath.Landau(Lphi_p2,l,m,True)/ROOT.TMath.Landau(Lphi_l2[-1],l,m,True))\n",
        "\n",
        "      if Ldelta_S1<0 and Ldelta_S2<0:\n",
        "        Lphi_i1=Lphi_p1\n",
        "        Lphi_l1.append(Lphi_i1)\n",
        "        if ((len(Lphi_l1)+len(Lphi_l2))>=N_L):\n",
        "          break\n",
        "        Lphi_i2=Lphi_p2\n",
        "        Lphi_l2.append(Lphi_i2)\n",
        "      if Ldelta_S1<0 and Ldelta_S2>0:\n",
        "        Lphi_i1=Lphi_p1\n",
        "        Lphi_l1.append(Lphi_i1)\n",
        "        if ((len(Lphi_l1)+len(Lphi_l2))>=N_L):\n",
        "          break\n",
        "        Lr=random()\n",
        "        LFRAC=ROOT.TMath.Landau(Lphi_p2,l,m,True)/ROOT.TMath.Landau(Lphi_l2[-1],l,m,True)\n",
        "        if Lr<LFRAC:\n",
        "          Lphi_i2=Lphi_p2\n",
        "          Lphi_l2.append(Lphi_i2)\n",
        "      if Ldelta_S1>0 and Ldelta_S2<0:\n",
        "        Lphi_i2=Lphi_p2\n",
        "        Lphi_l2.append(Lphi_i2)\n",
        "        if ((len(Lphi_l1)+len(Lphi_l2))>=N_L):\n",
        "          break\n",
        "        Lr=random()\n",
        "        LFRAC=ROOT.TMath.Landau(Lphi_p1,l,m,True)/ROOT.TMath.Landau(Lphi_l1[-1],l,m,True)\n",
        "        if Lr<LFRAC:\n",
        "          Lphi_i1=Lphi_p1\n",
        "          Lphi_l1.append(Lphi_i1)\n",
        "      if Ldelta_S1>0 and Ldelta_S2>0:\n",
        "        Lr=random()\n",
        "        LFRAC=ROOT.TMath.Landau(Lphi_p1,l,m,True)/ROOT.TMath.Landau(Lphi_l1[-1],l,m,True)\n",
        "        Lro=random()\n",
        "        LFRACo=ROOT.TMath.Landau(Lphi_p2,l,m,True)/ROOT.TMath.Landau(Lphi_l2[-1],l,m,True)\n",
        "        if Lro<LFRACo:\n",
        "          Lphi_i2=Lphi_p2\n",
        "          Lphi_l2.append(Lphi_i2)\n",
        "          if ((len(Lphi_l1)+len(Lphi_l2))>=N_L):\n",
        "            break\n",
        "        if Lr<LFRAC:\n",
        "          Lphi_i1=Lphi_p1\n",
        "          Lphi_l1.append(Lphi_i1)\n",
        "    Lphi=Lphi_l1+Lphi_l2\n",
        "\n",
        "    LALLX.append(Lphi)\n",
        "    LALLY.append([l,m])\n",
        "        "
      ],
      "execution_count": 31,
      "outputs": []
    },
    {
      "cell_type": "code",
      "metadata": {
        "id": "BuQb_LmnmRin",
        "colab_type": "code",
        "colab": {
          "base_uri": "https://localhost:8080/",
          "height": 105
        },
        "outputId": "91468095-f95e-41e8-e10a-da5976c7a6e8"
      },
      "source": [
        "#Para el chi-cuadrado: CARLOS\n",
        "CBin=Histograma_C.GetNbinsX()+1\n",
        "CFullChi2 = []\n",
        "for l in range(len(CALLX)):\n",
        "  Cchi2=0.0 \n",
        "  for z in range(CBin): \n",
        "    if Histograma_C.GetBinContent(z)!=0: #evitar division por cero\n",
        "      Cchi2+=((Histograma_C.GetBinContent(z)-CALLX[l][z])**2)/Histograma_C.GetBinContent(z) #chi^2=sum[(dato(i)-metropolis(i))^2/dato(i)] \n",
        "  Cchi2ndf=Cchi2/CBin \n",
        "  CFullChi2.append(Cchi2ndf)\n",
        "print(CFullChi2)\n",
        "print(len(CFullChi2))\n",
        "\n",
        "#Para el chi-cuadrado: LUCAS\n",
        "LBin=Histograma_L.GetNbinsX()+1\n",
        "LFullChi2 = []\n",
        "for l in range(len(LALLX)):\n",
        "  Lchi2=0.0 \n",
        "  for z in range(LBin): \n",
        "    if Histograma_L.GetBinContent(z)!=0: #evitar division por cero\n",
        "      Lchi2+=((Histograma_L.GetBinContent(z)-LALLX[l][z])**2)/Histograma_L.GetBinContent(z) #chi^2=sum[(dato(i)-metropolis(i))^2/dato(i)] \n",
        "  Lchi2ndf=Lchi2/LBin \n",
        "  LFullChi2.append(Lchi2ndf)\n",
        "print(LFullChi2)\n",
        "print(len(LFullChi2))"
      ],
      "execution_count": 32,
      "outputs": [
        {
          "output_type": "stream",
          "text": [
            "[109733.49686525733, 128034.46906866763, 132463.90685350582, 149626.41777141308, 138017.0483325079, 152610.69353096385, 132119.22619503236, 127032.63078581665, 141024.5982276345, 142197.51835892643, 153109.09125181113, 152712.206382635, 133094.7762733887, 138730.4056699094, 127000.33558533323, 133640.57173804514, 152916.40992992744, 138086.68449385354, 143895.34342287437, 143524.82167995174, 153527.28115106642, 142745.62411777562, 137016.896849488, 139232.29234526568, 134677.19943069358, 151750.84188629276, 151210.7912202444, 157002.4461121702, 132608.14149115092, 146140.6594192197, 148628.23240404032, 139274.9581446168, 154665.61912962934, 149883.4197293198, 159283.00282796667, 148217.5128148244]\n",
            "36\n",
            "[97342.41783644882, 128839.30646343184, 115199.9074724186, 125320.59001687687, 122354.84055448661, 134711.73468106377, 104581.5178960058, 115349.27251702102, 116143.7735768628, 102932.7167422199, 118028.71447503497, 133931.02251638728, 104246.36939727032, 116462.86795655536, 103501.51046560166, 111445.19019089564, 121964.77521491468, 113946.09288220448, 108693.41996214089, 122445.4652893043, 114562.49601542394, 118646.15750003225, 121115.8373299143, 137280.50395797993, 111647.90665083013, 116122.13968534119, 129552.42950102972, 122911.64243232265, 113038.72958602895, 111901.26026937395, 131384.67441630355, 117274.07109496709, 110185.05957764748, 108723.67108893723, 118650.29033630728, 112294.14552860487]\n",
            "36\n"
          ],
          "name": "stdout"
        }
      ]
    },
    {
      "cell_type": "code",
      "metadata": {
        "id": "Gc9uNYWPmkbK",
        "colab_type": "code",
        "colab": {
          "base_uri": "https://localhost:8080/",
          "height": 85
        },
        "outputId": "a12142fe-b0f3-4e87-a5f8-687d69e9bf64"
      },
      "source": [
        "# buscamos el valor minimo de Chi2 y asi saber la posición mu y c corresponde. Ademas se divide por 1000 que es el número de bines\n",
        "Cmini=min(CFullChi2)\n",
        "Cpos=CFullChi2.index(Cmini)\n",
        "print(\"minimo de chi^2 CARLOS:\",Cmini/1000)\n",
        "print(\"posicion CARLOS\",Cpos) \n",
        "\n",
        "# buscamos el valor minimo de Chi2 y asi saber la posición mu y c corresponde. Ademas se divide por 1000 que es el número de bines\n",
        "Lmini=min(LFullChi2)\n",
        "Lpos=LFullChi2.index(Lmini)\n",
        "print(\"minimo de chi^2 LUCAS:\",Lmini/1000)\n",
        "print(\"posicion LUCAS\",Lpos) "
      ],
      "execution_count": 33,
      "outputs": [
        {
          "output_type": "stream",
          "text": [
            "minimo de chi^2 CARLOS: 109.73349686525734\n",
            "posicion CARLOS 0\n",
            "minimo de chi^2 LUCAS: 97.34241783644882\n",
            "posicion LUCAS 0\n"
          ],
          "name": "stdout"
        }
      ]
    },
    {
      "cell_type": "code",
      "metadata": {
        "id": "15NqyhDEmsZP",
        "colab_type": "code",
        "colab": {
          "base_uri": "https://localhost:8080/",
          "height": 1000
        },
        "outputId": "98ca7dab-8e91-46e8-d626-aaec564b899b"
      },
      "source": [
        "#Superposición de histogramas CARLOS\n",
        "#Color rojo: Muestra generada\n",
        "#Color azul: Datos\n",
        "\n",
        "print(len(Cphi_l1))\n",
        "print(len(Cphi_l2))\n",
        "\n",
        "Cphi=Cphi_l1+Cphi_l2 \n",
        "print(len(Cphi))\n",
        "plt.hist(Cphi,bins=500)\n",
        "plt.show()\n",
        "HistC= ROOT.TH1F( 'HistC', 'SUPERPOSICION CARLOS', 1000, 0 , 1500 )\n",
        "for i in Cphi:\n",
        "  HistC.Fill(i)\n",
        "c1 = ROOT.TCanvas( 'c1', 'The FillRandom example', 200, 10, 700, 900 )\n",
        "c1.SetFillColor( 0 )\n",
        "HistC.Draw()\n",
        "Histograma_C.Draw('same')\n",
        "Histograma_C.SetLineColor(2)\n",
        "c1.Update()\n",
        "ROOT.gROOT.GetListOfCanvases().Draw()\n",
        "\n",
        "\n",
        "\n",
        "\n",
        "#Superposición de histogramas LUCAS\n",
        "#Color rojo: Muestra generada\n",
        "#Color azul: Datos\n",
        "\n",
        "print(len(Lphi_l1))\n",
        "print(len(Lphi_l2))\n",
        "\n",
        "Lphi=Lphi_l1+Lphi_l2 \n",
        "print(len(Lphi))\n",
        "plt.hist(Lphi,bins=500)\n",
        "plt.show()\n",
        "HistL= ROOT.TH1F( 'HistL', 'SUPERPOSICION LUCAS', 1000, 0 , 1500 )\n",
        "for i in Lphi:\n",
        "  HistL.Fill(i)\n",
        "c2 = ROOT.TCanvas( 'c2', 'The FillRandom example', 200, 10, 700, 900 )\n",
        "c2.SetFillColor( 0 )\n",
        "HistL.Draw()\n",
        "Histograma_L.Draw('same')\n",
        "Histograma_L.SetLineColor(2)\n",
        "c1.Update()\n",
        "ROOT.gROOT.GetListOfCanvases().Draw()"
      ],
      "execution_count": 34,
      "outputs": [
        {
          "output_type": "stream",
          "text": [
            "39934\n",
            "40066\n",
            "80000\n"
          ],
          "name": "stdout"
        },
        {
          "output_type": "display_data",
          "data": {
            "image/png": "[encoded data removed]",
            "text/plain": [
              "<Figure size 432x288 with 1 Axes>"
            ]
          },
          "metadata": {
            "tags": [],
            "needs_background": "light"
          }
        },
        {
          "output_type": "stream",
          "text": [
            "42560\n",
            "42440\n",
            "85000\n"
          ],
          "name": "stdout"
        },
        {
          "output_type": "display_data",
          "data": {
            "image/png": "[encoded data removed]",
            "text/plain": [
              "<Figure size 432x288 with 1 Axes>"
            ]
          },
          "metadata": {
            "tags": [],
            "needs_background": "light"
          }
        },
        {
          "output_type": "stream",
          "text": [
            "Warning in <TROOT::Append>: Replacing existing TH1: HistC (Potential memory leak).\n",
            "Warning in <TCanvas::Constructor>: Deleting canvas with same name: c1\n",
            "Warning in <TROOT::Append>: Replacing existing TH1: HistL (Potential memory leak).\n",
            "Warning in <TCanvas::Constructor>: Deleting canvas with same name: c2\n"
          ],
          "name": "stderr"
        },
        {
          "output_type": "display_data",
          "data": {
            "image/png": "[encoded data removed]",
            "text/plain": [
              "<IPython.core.display.Image object>"
            ]
          },
          "metadata": {
            "tags": []
          }
        },
        {
          "output_type": "display_data",
          "data": {
            "image/png": "[encoded data removed]",
            "text/plain": [
              "<IPython.core.display.Image object>"
            ]
          },
          "metadata": {
            "tags": []
          }
        }
      ]
    }
  ]
}